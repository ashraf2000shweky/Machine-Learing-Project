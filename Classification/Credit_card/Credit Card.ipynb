{
 "cells": [
  {
   "cell_type": "code",
   "execution_count": 1,
   "id": "3b5119f7",
   "metadata": {},
   "outputs": [],
   "source": [
    "import pandas as pd\n",
    "import seaborn as sns\n",
    "\n",
    "from sklearn.preprocessing import StandardScaler\n",
    "from sklearn.model_selection import train_test_split\n",
    "from sklearn.linear_model import LogisticRegression\n",
    "from sklearn.tree import DecisionTreeClassifier\n",
    "from sklearn.ensemble import RandomForestClassifier\n",
    "from sklearn.metrics import precision_score,recall_score,f1_score\n",
    "from sklearn.metrics import accuracy_score\n",
    "from sklearn.metrics import plot_confusion_matrix # تصوير مصفوفة الإرتباك \n",
    "\n",
    "import joblib\n"
   ]
  },
  {
   "cell_type": "code",
   "execution_count": 2,
   "id": "4e0c665f",
   "metadata": {},
   "outputs": [],
   "source": [
    "import warnings\n",
    "warnings.filterwarnings('ignore')"
   ]
  },
  {
   "cell_type": "code",
   "execution_count": 3,
   "id": "83f1a0d4",
   "metadata": {},
   "outputs": [],
   "source": [
    "data = pd.read_csv('creditcard.csv')"
   ]
  },
  {
   "cell_type": "code",
   "execution_count": 4,
   "id": "dd750016",
   "metadata": {},
   "outputs": [
    {
     "data": {
      "text/html": [
       "<div>\n",
       "<style scoped>\n",
       "    .dataframe tbody tr th:only-of-type {\n",
       "        vertical-align: middle;\n",
       "    }\n",
       "\n",
       "    .dataframe tbody tr th {\n",
       "        vertical-align: top;\n",
       "    }\n",
       "\n",
       "    .dataframe thead th {\n",
       "        text-align: right;\n",
       "    }\n",
       "</style>\n",
       "<table border=\"1\" class=\"dataframe\">\n",
       "  <thead>\n",
       "    <tr style=\"text-align: right;\">\n",
       "      <th></th>\n",
       "      <th>Time</th>\n",
       "      <th>V1</th>\n",
       "      <th>V2</th>\n",
       "      <th>V3</th>\n",
       "      <th>V4</th>\n",
       "      <th>V5</th>\n",
       "      <th>V6</th>\n",
       "      <th>V7</th>\n",
       "      <th>V8</th>\n",
       "      <th>V9</th>\n",
       "      <th>...</th>\n",
       "      <th>V21</th>\n",
       "      <th>V22</th>\n",
       "      <th>V23</th>\n",
       "      <th>V24</th>\n",
       "      <th>V25</th>\n",
       "      <th>V26</th>\n",
       "      <th>V27</th>\n",
       "      <th>V28</th>\n",
       "      <th>Amount</th>\n",
       "      <th>Class</th>\n",
       "    </tr>\n",
       "  </thead>\n",
       "  <tbody>\n",
       "    <tr>\n",
       "      <th>0</th>\n",
       "      <td>0.0</td>\n",
       "      <td>-1.359807</td>\n",
       "      <td>-0.072781</td>\n",
       "      <td>2.536347</td>\n",
       "      <td>1.378155</td>\n",
       "      <td>-0.338321</td>\n",
       "      <td>0.462388</td>\n",
       "      <td>0.239599</td>\n",
       "      <td>0.098698</td>\n",
       "      <td>0.363787</td>\n",
       "      <td>...</td>\n",
       "      <td>-0.018307</td>\n",
       "      <td>0.277838</td>\n",
       "      <td>-0.110474</td>\n",
       "      <td>0.066928</td>\n",
       "      <td>0.128539</td>\n",
       "      <td>-0.189115</td>\n",
       "      <td>0.133558</td>\n",
       "      <td>-0.021053</td>\n",
       "      <td>0.244964</td>\n",
       "      <td>0</td>\n",
       "    </tr>\n",
       "    <tr>\n",
       "      <th>1</th>\n",
       "      <td>0.0</td>\n",
       "      <td>1.191857</td>\n",
       "      <td>0.266151</td>\n",
       "      <td>0.166480</td>\n",
       "      <td>0.448154</td>\n",
       "      <td>0.060018</td>\n",
       "      <td>-0.082361</td>\n",
       "      <td>-0.078803</td>\n",
       "      <td>0.085102</td>\n",
       "      <td>-0.255425</td>\n",
       "      <td>...</td>\n",
       "      <td>-0.225775</td>\n",
       "      <td>-0.638672</td>\n",
       "      <td>0.101288</td>\n",
       "      <td>-0.339846</td>\n",
       "      <td>0.167170</td>\n",
       "      <td>0.125895</td>\n",
       "      <td>-0.008983</td>\n",
       "      <td>0.014724</td>\n",
       "      <td>-0.342475</td>\n",
       "      <td>0</td>\n",
       "    </tr>\n",
       "    <tr>\n",
       "      <th>2</th>\n",
       "      <td>1.0</td>\n",
       "      <td>-1.358354</td>\n",
       "      <td>-1.340163</td>\n",
       "      <td>1.773209</td>\n",
       "      <td>0.379780</td>\n",
       "      <td>-0.503198</td>\n",
       "      <td>1.800499</td>\n",
       "      <td>0.791461</td>\n",
       "      <td>0.247676</td>\n",
       "      <td>-1.514654</td>\n",
       "      <td>...</td>\n",
       "      <td>0.247998</td>\n",
       "      <td>0.771679</td>\n",
       "      <td>0.909412</td>\n",
       "      <td>-0.689281</td>\n",
       "      <td>-0.327642</td>\n",
       "      <td>-0.139097</td>\n",
       "      <td>-0.055353</td>\n",
       "      <td>-0.059752</td>\n",
       "      <td>1.160686</td>\n",
       "      <td>0</td>\n",
       "    </tr>\n",
       "    <tr>\n",
       "      <th>3</th>\n",
       "      <td>1.0</td>\n",
       "      <td>-0.966272</td>\n",
       "      <td>-0.185226</td>\n",
       "      <td>1.792993</td>\n",
       "      <td>-0.863291</td>\n",
       "      <td>-0.010309</td>\n",
       "      <td>1.247203</td>\n",
       "      <td>0.237609</td>\n",
       "      <td>0.377436</td>\n",
       "      <td>-1.387024</td>\n",
       "      <td>...</td>\n",
       "      <td>-0.108300</td>\n",
       "      <td>0.005274</td>\n",
       "      <td>-0.190321</td>\n",
       "      <td>-1.175575</td>\n",
       "      <td>0.647376</td>\n",
       "      <td>-0.221929</td>\n",
       "      <td>0.062723</td>\n",
       "      <td>0.061458</td>\n",
       "      <td>0.140534</td>\n",
       "      <td>0</td>\n",
       "    </tr>\n",
       "    <tr>\n",
       "      <th>4</th>\n",
       "      <td>2.0</td>\n",
       "      <td>-1.158233</td>\n",
       "      <td>0.877737</td>\n",
       "      <td>1.548718</td>\n",
       "      <td>0.403034</td>\n",
       "      <td>-0.407193</td>\n",
       "      <td>0.095921</td>\n",
       "      <td>0.592941</td>\n",
       "      <td>-0.270533</td>\n",
       "      <td>0.817739</td>\n",
       "      <td>...</td>\n",
       "      <td>-0.009431</td>\n",
       "      <td>0.798278</td>\n",
       "      <td>-0.137458</td>\n",
       "      <td>0.141267</td>\n",
       "      <td>-0.206010</td>\n",
       "      <td>0.502292</td>\n",
       "      <td>0.219422</td>\n",
       "      <td>0.215153</td>\n",
       "      <td>-0.073403</td>\n",
       "      <td>0</td>\n",
       "    </tr>\n",
       "    <tr>\n",
       "      <th>...</th>\n",
       "      <td>...</td>\n",
       "      <td>...</td>\n",
       "      <td>...</td>\n",
       "      <td>...</td>\n",
       "      <td>...</td>\n",
       "      <td>...</td>\n",
       "      <td>...</td>\n",
       "      <td>...</td>\n",
       "      <td>...</td>\n",
       "      <td>...</td>\n",
       "      <td>...</td>\n",
       "      <td>...</td>\n",
       "      <td>...</td>\n",
       "      <td>...</td>\n",
       "      <td>...</td>\n",
       "      <td>...</td>\n",
       "      <td>...</td>\n",
       "      <td>...</td>\n",
       "      <td>...</td>\n",
       "      <td>...</td>\n",
       "      <td>...</td>\n",
       "    </tr>\n",
       "    <tr>\n",
       "      <th>284802</th>\n",
       "      <td>172786.0</td>\n",
       "      <td>-11.881118</td>\n",
       "      <td>10.071785</td>\n",
       "      <td>-9.834783</td>\n",
       "      <td>-2.066656</td>\n",
       "      <td>-5.364473</td>\n",
       "      <td>-2.606837</td>\n",
       "      <td>-4.918215</td>\n",
       "      <td>7.305334</td>\n",
       "      <td>1.914428</td>\n",
       "      <td>...</td>\n",
       "      <td>0.213454</td>\n",
       "      <td>0.111864</td>\n",
       "      <td>1.014480</td>\n",
       "      <td>-0.509348</td>\n",
       "      <td>1.436807</td>\n",
       "      <td>0.250034</td>\n",
       "      <td>0.943651</td>\n",
       "      <td>0.823731</td>\n",
       "      <td>-0.350151</td>\n",
       "      <td>0</td>\n",
       "    </tr>\n",
       "    <tr>\n",
       "      <th>284803</th>\n",
       "      <td>172787.0</td>\n",
       "      <td>-0.732789</td>\n",
       "      <td>-0.055080</td>\n",
       "      <td>2.035030</td>\n",
       "      <td>-0.738589</td>\n",
       "      <td>0.868229</td>\n",
       "      <td>1.058415</td>\n",
       "      <td>0.024330</td>\n",
       "      <td>0.294869</td>\n",
       "      <td>0.584800</td>\n",
       "      <td>...</td>\n",
       "      <td>0.214205</td>\n",
       "      <td>0.924384</td>\n",
       "      <td>0.012463</td>\n",
       "      <td>-1.016226</td>\n",
       "      <td>-0.606624</td>\n",
       "      <td>-0.395255</td>\n",
       "      <td>0.068472</td>\n",
       "      <td>-0.053527</td>\n",
       "      <td>-0.254117</td>\n",
       "      <td>0</td>\n",
       "    </tr>\n",
       "    <tr>\n",
       "      <th>284804</th>\n",
       "      <td>172788.0</td>\n",
       "      <td>1.919565</td>\n",
       "      <td>-0.301254</td>\n",
       "      <td>-3.249640</td>\n",
       "      <td>-0.557828</td>\n",
       "      <td>2.630515</td>\n",
       "      <td>3.031260</td>\n",
       "      <td>-0.296827</td>\n",
       "      <td>0.708417</td>\n",
       "      <td>0.432454</td>\n",
       "      <td>...</td>\n",
       "      <td>0.232045</td>\n",
       "      <td>0.578229</td>\n",
       "      <td>-0.037501</td>\n",
       "      <td>0.640134</td>\n",
       "      <td>0.265745</td>\n",
       "      <td>-0.087371</td>\n",
       "      <td>0.004455</td>\n",
       "      <td>-0.026561</td>\n",
       "      <td>-0.081839</td>\n",
       "      <td>0</td>\n",
       "    </tr>\n",
       "    <tr>\n",
       "      <th>284805</th>\n",
       "      <td>172788.0</td>\n",
       "      <td>-0.240440</td>\n",
       "      <td>0.530483</td>\n",
       "      <td>0.702510</td>\n",
       "      <td>0.689799</td>\n",
       "      <td>-0.377961</td>\n",
       "      <td>0.623708</td>\n",
       "      <td>-0.686180</td>\n",
       "      <td>0.679145</td>\n",
       "      <td>0.392087</td>\n",
       "      <td>...</td>\n",
       "      <td>0.265245</td>\n",
       "      <td>0.800049</td>\n",
       "      <td>-0.163298</td>\n",
       "      <td>0.123205</td>\n",
       "      <td>-0.569159</td>\n",
       "      <td>0.546668</td>\n",
       "      <td>0.108821</td>\n",
       "      <td>0.104533</td>\n",
       "      <td>-0.313249</td>\n",
       "      <td>0</td>\n",
       "    </tr>\n",
       "    <tr>\n",
       "      <th>284806</th>\n",
       "      <td>172792.0</td>\n",
       "      <td>-0.533413</td>\n",
       "      <td>-0.189733</td>\n",
       "      <td>0.703337</td>\n",
       "      <td>-0.506271</td>\n",
       "      <td>-0.012546</td>\n",
       "      <td>-0.649617</td>\n",
       "      <td>1.577006</td>\n",
       "      <td>-0.414650</td>\n",
       "      <td>0.486180</td>\n",
       "      <td>...</td>\n",
       "      <td>0.261057</td>\n",
       "      <td>0.643078</td>\n",
       "      <td>0.376777</td>\n",
       "      <td>0.008797</td>\n",
       "      <td>-0.473649</td>\n",
       "      <td>-0.818267</td>\n",
       "      <td>-0.002415</td>\n",
       "      <td>0.013649</td>\n",
       "      <td>0.514355</td>\n",
       "      <td>0</td>\n",
       "    </tr>\n",
       "  </tbody>\n",
       "</table>\n",
       "<p>284807 rows × 31 columns</p>\n",
       "</div>"
      ],
      "text/plain": [
       "            Time         V1         V2        V3        V4        V5  \\\n",
       "0            0.0  -1.359807  -0.072781  2.536347  1.378155 -0.338321   \n",
       "1            0.0   1.191857   0.266151  0.166480  0.448154  0.060018   \n",
       "2            1.0  -1.358354  -1.340163  1.773209  0.379780 -0.503198   \n",
       "3            1.0  -0.966272  -0.185226  1.792993 -0.863291 -0.010309   \n",
       "4            2.0  -1.158233   0.877737  1.548718  0.403034 -0.407193   \n",
       "...          ...        ...        ...       ...       ...       ...   \n",
       "284802  172786.0 -11.881118  10.071785 -9.834783 -2.066656 -5.364473   \n",
       "284803  172787.0  -0.732789  -0.055080  2.035030 -0.738589  0.868229   \n",
       "284804  172788.0   1.919565  -0.301254 -3.249640 -0.557828  2.630515   \n",
       "284805  172788.0  -0.240440   0.530483  0.702510  0.689799 -0.377961   \n",
       "284806  172792.0  -0.533413  -0.189733  0.703337 -0.506271 -0.012546   \n",
       "\n",
       "              V6        V7        V8        V9  ...       V21       V22  \\\n",
       "0       0.462388  0.239599  0.098698  0.363787  ... -0.018307  0.277838   \n",
       "1      -0.082361 -0.078803  0.085102 -0.255425  ... -0.225775 -0.638672   \n",
       "2       1.800499  0.791461  0.247676 -1.514654  ...  0.247998  0.771679   \n",
       "3       1.247203  0.237609  0.377436 -1.387024  ... -0.108300  0.005274   \n",
       "4       0.095921  0.592941 -0.270533  0.817739  ... -0.009431  0.798278   \n",
       "...          ...       ...       ...       ...  ...       ...       ...   \n",
       "284802 -2.606837 -4.918215  7.305334  1.914428  ...  0.213454  0.111864   \n",
       "284803  1.058415  0.024330  0.294869  0.584800  ...  0.214205  0.924384   \n",
       "284804  3.031260 -0.296827  0.708417  0.432454  ...  0.232045  0.578229   \n",
       "284805  0.623708 -0.686180  0.679145  0.392087  ...  0.265245  0.800049   \n",
       "284806 -0.649617  1.577006 -0.414650  0.486180  ...  0.261057  0.643078   \n",
       "\n",
       "             V23       V24       V25       V26       V27       V28    Amount  \\\n",
       "0      -0.110474  0.066928  0.128539 -0.189115  0.133558 -0.021053  0.244964   \n",
       "1       0.101288 -0.339846  0.167170  0.125895 -0.008983  0.014724 -0.342475   \n",
       "2       0.909412 -0.689281 -0.327642 -0.139097 -0.055353 -0.059752  1.160686   \n",
       "3      -0.190321 -1.175575  0.647376 -0.221929  0.062723  0.061458  0.140534   \n",
       "4      -0.137458  0.141267 -0.206010  0.502292  0.219422  0.215153 -0.073403   \n",
       "...          ...       ...       ...       ...       ...       ...       ...   \n",
       "284802  1.014480 -0.509348  1.436807  0.250034  0.943651  0.823731 -0.350151   \n",
       "284803  0.012463 -1.016226 -0.606624 -0.395255  0.068472 -0.053527 -0.254117   \n",
       "284804 -0.037501  0.640134  0.265745 -0.087371  0.004455 -0.026561 -0.081839   \n",
       "284805 -0.163298  0.123205 -0.569159  0.546668  0.108821  0.104533 -0.313249   \n",
       "284806  0.376777  0.008797 -0.473649 -0.818267 -0.002415  0.013649  0.514355   \n",
       "\n",
       "        Class  \n",
       "0           0  \n",
       "1           0  \n",
       "2           0  \n",
       "3           0  \n",
       "4           0  \n",
       "...       ...  \n",
       "284802      0  \n",
       "284803      0  \n",
       "284804      0  \n",
       "284805      0  \n",
       "284806      0  \n",
       "\n",
       "[284807 rows x 31 columns]"
      ]
     },
     "execution_count": 4,
     "metadata": {},
     "output_type": "execute_result"
    }
   ],
   "source": [
    "sc = StandardScaler()\n",
    "data['Amount'] = sc.fit_transform(data['Amount'].to_frame())\n",
    "data"
   ]
  },
  {
   "cell_type": "code",
   "execution_count": 5,
   "id": "71a59635",
   "metadata": {},
   "outputs": [],
   "source": [
    "data.drop('Time',axis=1,inplace= True)"
   ]
  },
  {
   "cell_type": "code",
   "execution_count": 6,
   "id": "8dbbeaf3",
   "metadata": {},
   "outputs": [],
   "source": [
    "pd.set_option('display.max_columns',None)"
   ]
  },
  {
   "cell_type": "code",
   "execution_count": 7,
   "id": "c60b6a81",
   "metadata": {},
   "outputs": [],
   "source": [
    "data = data.drop_duplicates()"
   ]
  },
  {
   "cell_type": "code",
   "execution_count": 8,
   "id": "ddba141d",
   "metadata": {},
   "outputs": [
    {
     "data": {
      "text/plain": [
       "0    275190\n",
       "1       473\n",
       "Name: Class, dtype: int64"
      ]
     },
     "execution_count": 8,
     "metadata": {},
     "output_type": "execute_result"
    }
   ],
   "source": [
    "data['Class'].value_counts()"
   ]
  },
  {
   "cell_type": "code",
   "execution_count": 9,
   "id": "7b67a5a7",
   "metadata": {},
   "outputs": [],
   "source": [
    "normal = data[data['Class']==0]\n",
    "fraud = data[data['Class']==1]"
   ]
  },
  {
   "cell_type": "code",
   "execution_count": 10,
   "id": "29d74286",
   "metadata": {},
   "outputs": [
    {
     "data": {
      "text/plain": [
       "(473, 30)"
      ]
     },
     "execution_count": 10,
     "metadata": {},
     "output_type": "execute_result"
    }
   ],
   "source": [
    "fraud.shape"
   ]
  },
  {
   "cell_type": "code",
   "execution_count": 11,
   "id": "1876a12b",
   "metadata": {},
   "outputs": [
    {
     "data": {
      "text/plain": [
       "(473, 30)"
      ]
     },
     "execution_count": 11,
     "metadata": {},
     "output_type": "execute_result"
    }
   ],
   "source": [
    "# هنا سوف نقوم بموازنة البيانات عن طريق تقليل حجم العينة\n",
    "normal_sample = normal.sample(n=473)\n",
    "normal_sample.shape\n",
    "# لا أنصح بهذه الطريقة "
   ]
  },
  {
   "cell_type": "code",
   "execution_count": 12,
   "id": "d0817410",
   "metadata": {},
   "outputs": [
    {
     "data": {
      "text/html": [
       "<div>\n",
       "<style scoped>\n",
       "    .dataframe tbody tr th:only-of-type {\n",
       "        vertical-align: middle;\n",
       "    }\n",
       "\n",
       "    .dataframe tbody tr th {\n",
       "        vertical-align: top;\n",
       "    }\n",
       "\n",
       "    .dataframe thead th {\n",
       "        text-align: right;\n",
       "    }\n",
       "</style>\n",
       "<table border=\"1\" class=\"dataframe\">\n",
       "  <thead>\n",
       "    <tr style=\"text-align: right;\">\n",
       "      <th></th>\n",
       "      <th>V1</th>\n",
       "      <th>V2</th>\n",
       "      <th>V3</th>\n",
       "      <th>V4</th>\n",
       "      <th>V5</th>\n",
       "      <th>V6</th>\n",
       "      <th>V7</th>\n",
       "      <th>V8</th>\n",
       "      <th>V9</th>\n",
       "      <th>V10</th>\n",
       "      <th>V11</th>\n",
       "      <th>V12</th>\n",
       "      <th>V13</th>\n",
       "      <th>V14</th>\n",
       "      <th>V15</th>\n",
       "      <th>V16</th>\n",
       "      <th>V17</th>\n",
       "      <th>V18</th>\n",
       "      <th>V19</th>\n",
       "      <th>V20</th>\n",
       "      <th>V21</th>\n",
       "      <th>V22</th>\n",
       "      <th>V23</th>\n",
       "      <th>V24</th>\n",
       "      <th>V25</th>\n",
       "      <th>V26</th>\n",
       "      <th>V27</th>\n",
       "      <th>V28</th>\n",
       "      <th>Amount</th>\n",
       "      <th>Class</th>\n",
       "    </tr>\n",
       "  </thead>\n",
       "  <tbody>\n",
       "    <tr>\n",
       "      <th>225387</th>\n",
       "      <td>2.007810</td>\n",
       "      <td>-1.142225</td>\n",
       "      <td>-0.275544</td>\n",
       "      <td>-0.878874</td>\n",
       "      <td>-1.352750</td>\n",
       "      <td>-0.618311</td>\n",
       "      <td>-1.055899</td>\n",
       "      <td>0.005801</td>\n",
       "      <td>-0.179353</td>\n",
       "      <td>0.896334</td>\n",
       "      <td>1.097186</td>\n",
       "      <td>0.141155</td>\n",
       "      <td>-0.058134</td>\n",
       "      <td>-0.150647</td>\n",
       "      <td>-0.114908</td>\n",
       "      <td>1.616504</td>\n",
       "      <td>-0.206872</td>\n",
       "      <td>-0.832212</td>\n",
       "      <td>0.709018</td>\n",
       "      <td>0.071414</td>\n",
       "      <td>0.131244</td>\n",
       "      <td>0.199005</td>\n",
       "      <td>0.322020</td>\n",
       "      <td>0.050479</td>\n",
       "      <td>-0.577362</td>\n",
       "      <td>-0.467228</td>\n",
       "      <td>-0.000175</td>\n",
       "      <td>-0.039051</td>\n",
       "      <td>-0.101350</td>\n",
       "      <td>0</td>\n",
       "    </tr>\n",
       "    <tr>\n",
       "      <th>245867</th>\n",
       "      <td>-0.423235</td>\n",
       "      <td>0.754872</td>\n",
       "      <td>-0.134926</td>\n",
       "      <td>-1.006826</td>\n",
       "      <td>0.179775</td>\n",
       "      <td>-0.920537</td>\n",
       "      <td>1.639022</td>\n",
       "      <td>-0.441278</td>\n",
       "      <td>0.159113</td>\n",
       "      <td>-0.688154</td>\n",
       "      <td>-1.117949</td>\n",
       "      <td>-0.377144</td>\n",
       "      <td>-0.619443</td>\n",
       "      <td>0.382209</td>\n",
       "      <td>0.061990</td>\n",
       "      <td>0.028551</td>\n",
       "      <td>-0.839116</td>\n",
       "      <td>0.073431</td>\n",
       "      <td>-1.024652</td>\n",
       "      <td>-0.429639</td>\n",
       "      <td>0.393844</td>\n",
       "      <td>1.220334</td>\n",
       "      <td>-0.214395</td>\n",
       "      <td>-0.056779</td>\n",
       "      <td>-0.531484</td>\n",
       "      <td>-0.365884</td>\n",
       "      <td>0.025623</td>\n",
       "      <td>0.177664</td>\n",
       "      <td>0.157286</td>\n",
       "      <td>0</td>\n",
       "    </tr>\n",
       "    <tr>\n",
       "      <th>150909</th>\n",
       "      <td>-0.803290</td>\n",
       "      <td>0.138463</td>\n",
       "      <td>2.074103</td>\n",
       "      <td>4.817762</td>\n",
       "      <td>-0.145671</td>\n",
       "      <td>4.415936</td>\n",
       "      <td>-1.708621</td>\n",
       "      <td>1.744038</td>\n",
       "      <td>1.059396</td>\n",
       "      <td>0.502416</td>\n",
       "      <td>0.009293</td>\n",
       "      <td>-3.005999</td>\n",
       "      <td>-0.224211</td>\n",
       "      <td>1.165702</td>\n",
       "      <td>-1.644058</td>\n",
       "      <td>-0.643264</td>\n",
       "      <td>1.934317</td>\n",
       "      <td>0.487672</td>\n",
       "      <td>0.705509</td>\n",
       "      <td>0.111980</td>\n",
       "      <td>0.249446</td>\n",
       "      <td>1.038708</td>\n",
       "      <td>0.290396</td>\n",
       "      <td>-1.028585</td>\n",
       "      <td>-1.266504</td>\n",
       "      <td>0.485658</td>\n",
       "      <td>0.203302</td>\n",
       "      <td>0.115127</td>\n",
       "      <td>0.074446</td>\n",
       "      <td>0</td>\n",
       "    </tr>\n",
       "    <tr>\n",
       "      <th>118014</th>\n",
       "      <td>1.096938</td>\n",
       "      <td>-1.568678</td>\n",
       "      <td>-0.215643</td>\n",
       "      <td>-2.713918</td>\n",
       "      <td>-1.118922</td>\n",
       "      <td>-0.261015</td>\n",
       "      <td>-0.528341</td>\n",
       "      <td>-0.107614</td>\n",
       "      <td>1.109993</td>\n",
       "      <td>-0.934638</td>\n",
       "      <td>-0.943676</td>\n",
       "      <td>0.785678</td>\n",
       "      <td>0.914399</td>\n",
       "      <td>-0.194864</td>\n",
       "      <td>1.561491</td>\n",
       "      <td>-2.654871</td>\n",
       "      <td>0.315185</td>\n",
       "      <td>1.222332</td>\n",
       "      <td>0.325672</td>\n",
       "      <td>-0.128102</td>\n",
       "      <td>-0.272880</td>\n",
       "      <td>-0.345603</td>\n",
       "      <td>-0.280300</td>\n",
       "      <td>-0.734246</td>\n",
       "      <td>0.614817</td>\n",
       "      <td>-0.672302</td>\n",
       "      <td>0.094834</td>\n",
       "      <td>0.049534</td>\n",
       "      <td>0.366266</td>\n",
       "      <td>0</td>\n",
       "    </tr>\n",
       "    <tr>\n",
       "      <th>105879</th>\n",
       "      <td>-1.099359</td>\n",
       "      <td>0.485656</td>\n",
       "      <td>1.960178</td>\n",
       "      <td>-0.856214</td>\n",
       "      <td>-0.370435</td>\n",
       "      <td>-0.045546</td>\n",
       "      <td>0.113500</td>\n",
       "      <td>0.166708</td>\n",
       "      <td>1.051843</td>\n",
       "      <td>-0.699502</td>\n",
       "      <td>-0.994668</td>\n",
       "      <td>-0.210569</td>\n",
       "      <td>-1.171976</td>\n",
       "      <td>-0.555021</td>\n",
       "      <td>-0.674221</td>\n",
       "      <td>0.464749</td>\n",
       "      <td>-0.534132</td>\n",
       "      <td>-0.646964</td>\n",
       "      <td>-2.010030</td>\n",
       "      <td>-0.519938</td>\n",
       "      <td>0.051045</td>\n",
       "      <td>0.079291</td>\n",
       "      <td>-0.060273</td>\n",
       "      <td>0.057338</td>\n",
       "      <td>-0.340332</td>\n",
       "      <td>-0.056713</td>\n",
       "      <td>-0.487970</td>\n",
       "      <td>0.053277</td>\n",
       "      <td>-0.253677</td>\n",
       "      <td>0</td>\n",
       "    </tr>\n",
       "    <tr>\n",
       "      <th>...</th>\n",
       "      <td>...</td>\n",
       "      <td>...</td>\n",
       "      <td>...</td>\n",
       "      <td>...</td>\n",
       "      <td>...</td>\n",
       "      <td>...</td>\n",
       "      <td>...</td>\n",
       "      <td>...</td>\n",
       "      <td>...</td>\n",
       "      <td>...</td>\n",
       "      <td>...</td>\n",
       "      <td>...</td>\n",
       "      <td>...</td>\n",
       "      <td>...</td>\n",
       "      <td>...</td>\n",
       "      <td>...</td>\n",
       "      <td>...</td>\n",
       "      <td>...</td>\n",
       "      <td>...</td>\n",
       "      <td>...</td>\n",
       "      <td>...</td>\n",
       "      <td>...</td>\n",
       "      <td>...</td>\n",
       "      <td>...</td>\n",
       "      <td>...</td>\n",
       "      <td>...</td>\n",
       "      <td>...</td>\n",
       "      <td>...</td>\n",
       "      <td>...</td>\n",
       "      <td>...</td>\n",
       "    </tr>\n",
       "    <tr>\n",
       "      <th>279863</th>\n",
       "      <td>-1.927883</td>\n",
       "      <td>1.125653</td>\n",
       "      <td>-4.518331</td>\n",
       "      <td>1.749293</td>\n",
       "      <td>-1.566487</td>\n",
       "      <td>-2.010494</td>\n",
       "      <td>-0.882850</td>\n",
       "      <td>0.697211</td>\n",
       "      <td>-2.064945</td>\n",
       "      <td>-5.587794</td>\n",
       "      <td>2.115795</td>\n",
       "      <td>-5.417424</td>\n",
       "      <td>-1.235123</td>\n",
       "      <td>-6.665177</td>\n",
       "      <td>0.401701</td>\n",
       "      <td>-2.897825</td>\n",
       "      <td>-4.570529</td>\n",
       "      <td>-1.315147</td>\n",
       "      <td>0.391167</td>\n",
       "      <td>1.252967</td>\n",
       "      <td>0.778584</td>\n",
       "      <td>-0.319189</td>\n",
       "      <td>0.639419</td>\n",
       "      <td>-0.294885</td>\n",
       "      <td>0.537503</td>\n",
       "      <td>0.788395</td>\n",
       "      <td>0.292680</td>\n",
       "      <td>0.147968</td>\n",
       "      <td>1.206024</td>\n",
       "      <td>1</td>\n",
       "    </tr>\n",
       "    <tr>\n",
       "      <th>280143</th>\n",
       "      <td>1.378559</td>\n",
       "      <td>1.289381</td>\n",
       "      <td>-5.004247</td>\n",
       "      <td>1.411850</td>\n",
       "      <td>0.442581</td>\n",
       "      <td>-1.326536</td>\n",
       "      <td>-1.413170</td>\n",
       "      <td>0.248525</td>\n",
       "      <td>-1.127396</td>\n",
       "      <td>-3.232153</td>\n",
       "      <td>2.858466</td>\n",
       "      <td>-3.096915</td>\n",
       "      <td>-0.792532</td>\n",
       "      <td>-5.210141</td>\n",
       "      <td>-0.613803</td>\n",
       "      <td>-2.155297</td>\n",
       "      <td>-3.267116</td>\n",
       "      <td>-0.688505</td>\n",
       "      <td>0.737657</td>\n",
       "      <td>0.226138</td>\n",
       "      <td>0.370612</td>\n",
       "      <td>0.028234</td>\n",
       "      <td>-0.145640</td>\n",
       "      <td>-0.081049</td>\n",
       "      <td>0.521875</td>\n",
       "      <td>0.739467</td>\n",
       "      <td>0.389152</td>\n",
       "      <td>0.186637</td>\n",
       "      <td>-0.350191</td>\n",
       "      <td>1</td>\n",
       "    </tr>\n",
       "    <tr>\n",
       "      <th>280149</th>\n",
       "      <td>-0.676143</td>\n",
       "      <td>1.126366</td>\n",
       "      <td>-2.213700</td>\n",
       "      <td>0.468308</td>\n",
       "      <td>-1.120541</td>\n",
       "      <td>-0.003346</td>\n",
       "      <td>-2.234739</td>\n",
       "      <td>1.210158</td>\n",
       "      <td>-0.652250</td>\n",
       "      <td>-3.463891</td>\n",
       "      <td>1.794969</td>\n",
       "      <td>-2.775022</td>\n",
       "      <td>-0.418950</td>\n",
       "      <td>-4.057162</td>\n",
       "      <td>-0.712616</td>\n",
       "      <td>-1.603015</td>\n",
       "      <td>-5.035326</td>\n",
       "      <td>-0.507000</td>\n",
       "      <td>0.266272</td>\n",
       "      <td>0.247968</td>\n",
       "      <td>0.751826</td>\n",
       "      <td>0.834108</td>\n",
       "      <td>0.190944</td>\n",
       "      <td>0.032070</td>\n",
       "      <td>-0.739695</td>\n",
       "      <td>0.471111</td>\n",
       "      <td>0.385107</td>\n",
       "      <td>0.194361</td>\n",
       "      <td>-0.041818</td>\n",
       "      <td>1</td>\n",
       "    </tr>\n",
       "    <tr>\n",
       "      <th>281144</th>\n",
       "      <td>-3.113832</td>\n",
       "      <td>0.585864</td>\n",
       "      <td>-5.399730</td>\n",
       "      <td>1.817092</td>\n",
       "      <td>-0.840618</td>\n",
       "      <td>-2.943548</td>\n",
       "      <td>-2.208002</td>\n",
       "      <td>1.058733</td>\n",
       "      <td>-1.632333</td>\n",
       "      <td>-5.245984</td>\n",
       "      <td>1.933520</td>\n",
       "      <td>-5.030465</td>\n",
       "      <td>-1.127455</td>\n",
       "      <td>-6.416628</td>\n",
       "      <td>0.141237</td>\n",
       "      <td>-2.549498</td>\n",
       "      <td>-4.614717</td>\n",
       "      <td>-1.478138</td>\n",
       "      <td>-0.035480</td>\n",
       "      <td>0.306271</td>\n",
       "      <td>0.583276</td>\n",
       "      <td>-0.269209</td>\n",
       "      <td>-0.456108</td>\n",
       "      <td>-0.183659</td>\n",
       "      <td>-0.328168</td>\n",
       "      <td>0.606116</td>\n",
       "      <td>0.884876</td>\n",
       "      <td>-0.253700</td>\n",
       "      <td>0.626302</td>\n",
       "      <td>1</td>\n",
       "    </tr>\n",
       "    <tr>\n",
       "      <th>281674</th>\n",
       "      <td>1.991976</td>\n",
       "      <td>0.158476</td>\n",
       "      <td>-2.583441</td>\n",
       "      <td>0.408670</td>\n",
       "      <td>1.151147</td>\n",
       "      <td>-0.096695</td>\n",
       "      <td>0.223050</td>\n",
       "      <td>-0.068384</td>\n",
       "      <td>0.577829</td>\n",
       "      <td>-0.888722</td>\n",
       "      <td>0.491140</td>\n",
       "      <td>0.728903</td>\n",
       "      <td>0.380428</td>\n",
       "      <td>-1.948883</td>\n",
       "      <td>-0.832498</td>\n",
       "      <td>0.519436</td>\n",
       "      <td>0.903562</td>\n",
       "      <td>1.197315</td>\n",
       "      <td>0.593509</td>\n",
       "      <td>-0.017652</td>\n",
       "      <td>-0.164350</td>\n",
       "      <td>-0.295135</td>\n",
       "      <td>-0.072173</td>\n",
       "      <td>-0.450261</td>\n",
       "      <td>0.313267</td>\n",
       "      <td>-0.289617</td>\n",
       "      <td>0.002988</td>\n",
       "      <td>-0.015309</td>\n",
       "      <td>-0.183191</td>\n",
       "      <td>1</td>\n",
       "    </tr>\n",
       "  </tbody>\n",
       "</table>\n",
       "<p>946 rows × 30 columns</p>\n",
       "</div>"
      ],
      "text/plain": [
       "              V1        V2        V3        V4        V5        V6        V7  \\\n",
       "225387  2.007810 -1.142225 -0.275544 -0.878874 -1.352750 -0.618311 -1.055899   \n",
       "245867 -0.423235  0.754872 -0.134926 -1.006826  0.179775 -0.920537  1.639022   \n",
       "150909 -0.803290  0.138463  2.074103  4.817762 -0.145671  4.415936 -1.708621   \n",
       "118014  1.096938 -1.568678 -0.215643 -2.713918 -1.118922 -0.261015 -0.528341   \n",
       "105879 -1.099359  0.485656  1.960178 -0.856214 -0.370435 -0.045546  0.113500   \n",
       "...          ...       ...       ...       ...       ...       ...       ...   \n",
       "279863 -1.927883  1.125653 -4.518331  1.749293 -1.566487 -2.010494 -0.882850   \n",
       "280143  1.378559  1.289381 -5.004247  1.411850  0.442581 -1.326536 -1.413170   \n",
       "280149 -0.676143  1.126366 -2.213700  0.468308 -1.120541 -0.003346 -2.234739   \n",
       "281144 -3.113832  0.585864 -5.399730  1.817092 -0.840618 -2.943548 -2.208002   \n",
       "281674  1.991976  0.158476 -2.583441  0.408670  1.151147 -0.096695  0.223050   \n",
       "\n",
       "              V8        V9       V10       V11       V12       V13       V14  \\\n",
       "225387  0.005801 -0.179353  0.896334  1.097186  0.141155 -0.058134 -0.150647   \n",
       "245867 -0.441278  0.159113 -0.688154 -1.117949 -0.377144 -0.619443  0.382209   \n",
       "150909  1.744038  1.059396  0.502416  0.009293 -3.005999 -0.224211  1.165702   \n",
       "118014 -0.107614  1.109993 -0.934638 -0.943676  0.785678  0.914399 -0.194864   \n",
       "105879  0.166708  1.051843 -0.699502 -0.994668 -0.210569 -1.171976 -0.555021   \n",
       "...          ...       ...       ...       ...       ...       ...       ...   \n",
       "279863  0.697211 -2.064945 -5.587794  2.115795 -5.417424 -1.235123 -6.665177   \n",
       "280143  0.248525 -1.127396 -3.232153  2.858466 -3.096915 -0.792532 -5.210141   \n",
       "280149  1.210158 -0.652250 -3.463891  1.794969 -2.775022 -0.418950 -4.057162   \n",
       "281144  1.058733 -1.632333 -5.245984  1.933520 -5.030465 -1.127455 -6.416628   \n",
       "281674 -0.068384  0.577829 -0.888722  0.491140  0.728903  0.380428 -1.948883   \n",
       "\n",
       "             V15       V16       V17       V18       V19       V20       V21  \\\n",
       "225387 -0.114908  1.616504 -0.206872 -0.832212  0.709018  0.071414  0.131244   \n",
       "245867  0.061990  0.028551 -0.839116  0.073431 -1.024652 -0.429639  0.393844   \n",
       "150909 -1.644058 -0.643264  1.934317  0.487672  0.705509  0.111980  0.249446   \n",
       "118014  1.561491 -2.654871  0.315185  1.222332  0.325672 -0.128102 -0.272880   \n",
       "105879 -0.674221  0.464749 -0.534132 -0.646964 -2.010030 -0.519938  0.051045   \n",
       "...          ...       ...       ...       ...       ...       ...       ...   \n",
       "279863  0.401701 -2.897825 -4.570529 -1.315147  0.391167  1.252967  0.778584   \n",
       "280143 -0.613803 -2.155297 -3.267116 -0.688505  0.737657  0.226138  0.370612   \n",
       "280149 -0.712616 -1.603015 -5.035326 -0.507000  0.266272  0.247968  0.751826   \n",
       "281144  0.141237 -2.549498 -4.614717 -1.478138 -0.035480  0.306271  0.583276   \n",
       "281674 -0.832498  0.519436  0.903562  1.197315  0.593509 -0.017652 -0.164350   \n",
       "\n",
       "             V22       V23       V24       V25       V26       V27       V28  \\\n",
       "225387  0.199005  0.322020  0.050479 -0.577362 -0.467228 -0.000175 -0.039051   \n",
       "245867  1.220334 -0.214395 -0.056779 -0.531484 -0.365884  0.025623  0.177664   \n",
       "150909  1.038708  0.290396 -1.028585 -1.266504  0.485658  0.203302  0.115127   \n",
       "118014 -0.345603 -0.280300 -0.734246  0.614817 -0.672302  0.094834  0.049534   \n",
       "105879  0.079291 -0.060273  0.057338 -0.340332 -0.056713 -0.487970  0.053277   \n",
       "...          ...       ...       ...       ...       ...       ...       ...   \n",
       "279863 -0.319189  0.639419 -0.294885  0.537503  0.788395  0.292680  0.147968   \n",
       "280143  0.028234 -0.145640 -0.081049  0.521875  0.739467  0.389152  0.186637   \n",
       "280149  0.834108  0.190944  0.032070 -0.739695  0.471111  0.385107  0.194361   \n",
       "281144 -0.269209 -0.456108 -0.183659 -0.328168  0.606116  0.884876 -0.253700   \n",
       "281674 -0.295135 -0.072173 -0.450261  0.313267 -0.289617  0.002988 -0.015309   \n",
       "\n",
       "          Amount  Class  \n",
       "225387 -0.101350      0  \n",
       "245867  0.157286      0  \n",
       "150909  0.074446      0  \n",
       "118014  0.366266      0  \n",
       "105879 -0.253677      0  \n",
       "...          ...    ...  \n",
       "279863  1.206024      1  \n",
       "280143 -0.350191      1  \n",
       "280149 -0.041818      1  \n",
       "281144  0.626302      1  \n",
       "281674 -0.183191      1  \n",
       "\n",
       "[946 rows x 30 columns]"
      ]
     },
     "execution_count": 12,
     "metadata": {},
     "output_type": "execute_result"
    }
   ],
   "source": [
    "new_data = pd.concat([normal_sample,fraud])\n",
    "new_data"
   ]
  },
  {
   "cell_type": "code",
   "execution_count": 13,
   "id": "4d1ca6a7",
   "metadata": {},
   "outputs": [],
   "source": [
    "X = new_data.drop('Class',axis=1)\n",
    "y = new_data['Class']"
   ]
  },
  {
   "cell_type": "code",
   "execution_count": 14,
   "id": "5be56dec",
   "metadata": {},
   "outputs": [],
   "source": [
    "X_train, X_test, y_train, y_test = train_test_split(X, y, test_size=0.20, random_state=42)"
   ]
  },
  {
   "cell_type": "code",
   "execution_count": 15,
   "id": "9cdd6c3d",
   "metadata": {},
   "outputs": [],
   "source": [
    "log = LogisticRegression()\n",
    "log.fit(X_train,y_train)\n",
    "y_pred1 = log.predict(X_test)\n",
    "a1 = accuracy_score(y_test,y_pred1)"
   ]
  },
  {
   "cell_type": "code",
   "execution_count": 16,
   "id": "e59273a0",
   "metadata": {},
   "outputs": [
    {
     "data": {
      "image/png": "[encoded data removed]",
      "text/plain": [
       "<Figure size 432x288 with 2 Axes>"
      ]
     },
     "metadata": {
      "needs_background": "light"
     },
     "output_type": "display_data"
    }
   ],
   "source": [
    "# كيف نقرأ هذه المصفوفة \n",
    "# نجري تقاطعا\n",
    "#  أن النموذج يكون صحيح عندما يكون العنصر المتنبئ به يساوي قيمة التنبوء\n",
    "# مثلاً نقاطع عند 0 على محور الأفقي و 0 عند المحور العامودي نحصل على 86 تنبؤ صحيح \n",
    "# نقرأ الرقم 9 على الشكل التالي 9 أشخاص لم يقوموا بالتزوير تنبأ النموذج بأنهم قاموا بالتزوير أي تنبؤ خاطى\n",
    "# وهكذا \n",
    "disp = plot_confusion_matrix(log,X_test,y_test,cmap='Blues',values_format='.3g')"
   ]
  },
  {
   "cell_type": "code",
   "execution_count": 17,
   "id": "0dd164a1",
   "metadata": {},
   "outputs": [
    {
     "data": {
      "text/plain": [
       "array([[88,  0],\n",
       "       [ 9, 93]], dtype=int64)"
      ]
     },
     "execution_count": 17,
     "metadata": {},
     "output_type": "execute_result"
    }
   ],
   "source": [
    "disp.confusion_matrix"
   ]
  },
  {
   "cell_type": "code",
   "execution_count": 18,
   "id": "6b47f13b",
   "metadata": {},
   "outputs": [],
   "source": [
    "dt = DecisionTreeClassifier()\n",
    "dt.fit(X_train,y_train)\n",
    "y_pred2 = dt.predict(X_test)\n",
    "a2 = accuracy_score(y_test,y_pred2)"
   ]
  },
  {
   "cell_type": "code",
   "execution_count": 19,
   "id": "e09432c6",
   "metadata": {},
   "outputs": [
    {
     "data": {
      "image/png": "[encoded data removed]",
      "text/plain": [
       "<Figure size 432x288 with 2 Axes>"
      ]
     },
     "metadata": {
      "needs_background": "light"
     },
     "output_type": "display_data"
    }
   ],
   "source": [
    "disp = plot_confusion_matrix(dt,X_test,y_test,cmap='Blues',values_format='.3g')"
   ]
  },
  {
   "cell_type": "code",
   "execution_count": 20,
   "id": "b6c11ce1",
   "metadata": {},
   "outputs": [
    {
     "data": {
      "text/plain": [
       "array([[80,  8],\n",
       "       [10, 92]], dtype=int64)"
      ]
     },
     "execution_count": 20,
     "metadata": {},
     "output_type": "execute_result"
    }
   ],
   "source": [
    "disp.confusion_matrix"
   ]
  },
  {
   "cell_type": "code",
   "execution_count": 21,
   "id": "c51bb5ec",
   "metadata": {},
   "outputs": [],
   "source": [
    "rf = RandomForestClassifier()\n",
    "rf.fit(X_train,y_train)\n",
    "y_pred3 = rf.predict(X_test)\n",
    "a3 = accuracy_score(y_test,y_pred3)"
   ]
  },
  {
   "cell_type": "code",
   "execution_count": 22,
   "id": "36fd99dd",
   "metadata": {},
   "outputs": [
    {
     "data": {
      "image/png": "[encoded data removed]",
      "text/plain": [
       "<Figure size 432x288 with 2 Axes>"
      ]
     },
     "metadata": {
      "needs_background": "light"
     },
     "output_type": "display_data"
    }
   ],
   "source": [
    "disp = plot_confusion_matrix(rf,X_test,y_test,cmap='Blues',values_format='.3g')"
   ]
  },
  {
   "cell_type": "code",
   "execution_count": 23,
   "id": "8677afc6",
   "metadata": {},
   "outputs": [
    {
     "data": {
      "text/plain": [
       "array([[86,  2],\n",
       "       [11, 91]], dtype=int64)"
      ]
     },
     "execution_count": 23,
     "metadata": {},
     "output_type": "execute_result"
    }
   ],
   "source": [
    "disp.confusion_matrix"
   ]
  },
  {
   "cell_type": "code",
   "execution_count": 24,
   "id": "af0a4b4b",
   "metadata": {},
   "outputs": [
    {
     "data": {
      "text/html": [
       "<div>\n",
       "<style scoped>\n",
       "    .dataframe tbody tr th:only-of-type {\n",
       "        vertical-align: middle;\n",
       "    }\n",
       "\n",
       "    .dataframe tbody tr th {\n",
       "        vertical-align: top;\n",
       "    }\n",
       "\n",
       "    .dataframe thead th {\n",
       "        text-align: right;\n",
       "    }\n",
       "</style>\n",
       "<table border=\"1\" class=\"dataframe\">\n",
       "  <thead>\n",
       "    <tr style=\"text-align: right;\">\n",
       "      <th></th>\n",
       "      <th>model</th>\n",
       "      <th>ACC</th>\n",
       "    </tr>\n",
       "  </thead>\n",
       "  <tbody>\n",
       "    <tr>\n",
       "      <th>0</th>\n",
       "      <td>LR</td>\n",
       "      <td>0.952632</td>\n",
       "    </tr>\n",
       "    <tr>\n",
       "      <th>1</th>\n",
       "      <td>DT</td>\n",
       "      <td>0.905263</td>\n",
       "    </tr>\n",
       "    <tr>\n",
       "      <th>2</th>\n",
       "      <td>RF</td>\n",
       "      <td>0.931579</td>\n",
       "    </tr>\n",
       "  </tbody>\n",
       "</table>\n",
       "</div>"
      ],
      "text/plain": [
       "  model       ACC\n",
       "0    LR  0.952632\n",
       "1    DT  0.905263\n",
       "2    RF  0.931579"
      ]
     },
     "execution_count": 24,
     "metadata": {},
     "output_type": "execute_result"
    }
   ],
   "source": [
    "acc = pd.DataFrame({'model':['LR','DT','RF'],\n",
    "             'ACC':[a1,a2,a3]})\n",
    "\n",
    "acc"
   ]
  },
  {
   "cell_type": "code",
   "execution_count": 25,
   "id": "1775d504",
   "metadata": {},
   "outputs": [
    {
     "data": {
      "text/plain": [
       "<AxesSubplot:xlabel='model', ylabel='ACC'>"
      ]
     },
     "execution_count": 25,
     "metadata": {},
     "output_type": "execute_result"
    },
    {
     "data": {
      "image/png": "[encoded data removed]",
      "text/plain": [
       "<Figure size 432x288 with 1 Axes>"
      ]
     },
     "metadata": {
      "needs_background": "light"
     },
     "output_type": "display_data"
    }
   ],
   "source": [
    "sns.barplot(acc['model'],acc['ACC'])"
   ]
  },
  {
   "cell_type": "code",
   "execution_count": 26,
   "id": "bcfdfb80",
   "metadata": {},
   "outputs": [
    {
     "data": {
      "text/plain": [
       "0    275190\n",
       "1       473\n",
       "Name: Class, dtype: int64"
      ]
     },
     "execution_count": 26,
     "metadata": {},
     "output_type": "execute_result"
    }
   ],
   "source": [
    "data['Class'].value_counts()"
   ]
  },
  {
   "cell_type": "code",
   "execution_count": 27,
   "id": "a881432f",
   "metadata": {},
   "outputs": [],
   "source": [
    "X = data.drop('Class',axis=1)\n",
    "y = data['Class']"
   ]
  },
  {
   "cell_type": "code",
   "execution_count": 28,
   "id": "8cb5c5a7",
   "metadata": {},
   "outputs": [],
   "source": [
    "from imblearn.over_sampling import SMOTE"
   ]
  },
  {
   "cell_type": "code",
   "execution_count": 29,
   "id": "a55f6fc9",
   "metadata": {},
   "outputs": [],
   "source": [
    "X_re,y_re = SMOTE().fit_resample(X,y)\n"
   ]
  },
  {
   "cell_type": "code",
   "execution_count": 30,
   "id": "2d90479d",
   "metadata": {},
   "outputs": [
    {
     "name": "stdout",
     "output_type": "stream",
     "text": [
      "Shape of X_re (550380, 29)\n",
      "Shape of y_re (550380,)\n"
     ]
    }
   ],
   "source": [
    "print('Shape of X_re',X_re.shape)\n",
    "print('Shape of y_re',y_re.shape)"
   ]
  },
  {
   "cell_type": "code",
   "execution_count": 31,
   "id": "f6712df4",
   "metadata": {},
   "outputs": [],
   "source": [
    "X_train, X_test, y_train, y_test = train_test_split(X_re, y_re, test_size=0.20, random_state=42)"
   ]
  },
  {
   "cell_type": "code",
   "execution_count": 32,
   "id": "14e812b6",
   "metadata": {},
   "outputs": [],
   "source": [
    "log = LogisticRegression()\n",
    "log.fit(X_train,y_train)\n",
    "y_pred1 = log.predict(X_test)\n",
    "a1 = accuracy_score(y_test,y_pred1)"
   ]
  },
  {
   "cell_type": "code",
   "execution_count": null,
   "id": "5641178a",
   "metadata": {},
   "outputs": [],
   "source": [
    "dt = DecisionTreeClassifier()\n",
    "dt.fit(X_train,y_train)\n",
    "y_pred2 = dt.predict(X_test)\n",
    "a2 = accuracy_score(y_test,y_pred2)"
   ]
  },
  {
   "cell_type": "code",
   "execution_count": null,
   "id": "f0d82cf0",
   "metadata": {},
   "outputs": [],
   "source": [
    "rf = RandomForestClassifier()\n",
    "rf.fit(X_train,y_train)\n",
    "y_pred3 = rf.predict(X_test)\n",
    "a3 = accuracy_score(y_test,y_pred3)"
   ]
  },
  {
   "cell_type": "code",
   "execution_count": null,
   "id": "9222e239",
   "metadata": {},
   "outputs": [],
   "source": [
    "acc = pd.DataFrame({'model':['LR','DT','RF'],\n",
    "             'ACC':[a1,a2,a3]})\n",
    "\n",
    "acc"
   ]
  },
  {
   "cell_type": "code",
   "execution_count": null,
   "id": "ed9a77a4",
   "metadata": {},
   "outputs": [],
   "source": [
    "sns.barplot(acc['model'],acc['ACC'])"
   ]
  },
  {
   "cell_type": "code",
   "execution_count": null,
   "id": "65872d35",
   "metadata": {},
   "outputs": [],
   "source": [
    "precision_score(y_test,y_pred1),precision_score(y_test,y_pred1),precision_score(y_test,y_pred1)"
   ]
  },
  {
   "cell_type": "code",
   "execution_count": null,
   "id": "62b8003f",
   "metadata": {},
   "outputs": [],
   "source": [
    "recall_score(y_test,y_pred1),recall_score(y_test,y_pred2),recall_score(y_test,y_pred3)"
   ]
  },
  {
   "cell_type": "code",
   "execution_count": null,
   "id": "12d71fc8",
   "metadata": {},
   "outputs": [],
   "source": [
    "f1_score(y_test,y_pred1),f1_score(y_test,y_pred2),f1_score(y_test,y_pred3)"
   ]
  },
  {
   "cell_type": "code",
   "execution_count": null,
   "id": "f9a0f44c",
   "metadata": {},
   "outputs": [],
   "source": []
  },
  {
   "cell_type": "code",
   "execution_count": 33,
   "id": "4d2d541a",
   "metadata": {},
   "outputs": [],
   "source": [
    "log = LogisticRegression()\n",
    "log.fit(X_re,y_re)\n",
    "joblib.dump(log,'credit_card_model')\n",
    "model = joblib.load('credit_card_model')"
   ]
  },
  {
   "cell_type": "code",
   "execution_count": 34,
   "id": "cd104386",
   "metadata": {},
   "outputs": [
    {
     "name": "stdout",
     "output_type": "stream",
     "text": [
      "Normal Transcation\n"
     ]
    }
   ],
   "source": [
    "l = []\n",
    "\n",
    "for i in range(1,30):\n",
    "    l.append(1)\n",
    "    \n",
    "p = model.predict([l])\n",
    "\n",
    "if p == 0:\n",
    "    print('Normal Transcation')\n",
    "else:\n",
    "    print('Fraudlent Transcation')"
   ]
  },
  {
   "cell_type": "code",
   "execution_count": null,
   "id": "ae5f4780",
   "metadata": {},
   "outputs": [],
   "source": []
  },
  {
   "cell_type": "code",
   "execution_count": null,
   "id": "d961d692",
   "metadata": {},
   "outputs": [],
   "source": []
  }
 ],
 "metadata": {
  "kernelspec": {
   "display_name": "Python 3 (ipykernel)",
   "language": "python",
   "name": "python3"
  },
  "language_info": {
   "codemirror_mode": {
    "name": "ipython",
    "version": 3
   },
   "file_extension": ".py",
   "mimetype": "text/x-python",
   "name": "python",
   "nbconvert_exporter": "python",
   "pygments_lexer": "ipython3",
   "version": "3.9.12"
  }
 },
 "nbformat": 4,
 "nbformat_minor": 5
}
