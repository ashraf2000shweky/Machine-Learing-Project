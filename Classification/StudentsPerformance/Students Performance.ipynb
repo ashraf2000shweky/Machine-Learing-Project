{
 "cells": [
  {
   "cell_type": "code",
   "execution_count": 18,
   "id": "0402ef8c",
   "metadata": {},
   "outputs": [],
   "source": [
    "import pandas as pd\n",
    "import numpy as np\n",
    "from sklearn.model_selection import train_test_split\n",
    "# naive_bayes يستخدم هذا النموذج للتنبؤ بأكثر من فئتين \n",
    "# النتائج هنا سيئة لان البيانات غير حقيقية \n",
    "from sklearn.naive_bayes import GaussianNB,ComplementNB,BernoulliNB,CategoricalNB,MultinomialNB,_BaseDiscreteNB\n",
    "from sklearn.metrics import accuracy_score , confusion_matrix"
   ]
  },
  {
   "cell_type": "code",
   "execution_count": 19,
   "id": "2d0aecf7",
   "metadata": {},
   "outputs": [],
   "source": [
    "import warnings\n",
    "warnings.filterwarnings('ignore')"
   ]
  },
  {
   "cell_type": "code",
   "execution_count": 20,
   "id": "8630f62f",
   "metadata": {},
   "outputs": [],
   "source": [
    "data = pd.read_csv(\"StudentsPerformance.csv\")"
   ]
  },
  {
   "cell_type": "code",
   "execution_count": 21,
   "id": "bb8b6c7b",
   "metadata": {},
   "outputs": [
    {
     "data": {
      "text/plain": [
       "some college          226\n",
       "associate's degree    222\n",
       "high school           196\n",
       "some high school      179\n",
       "bachelor's degree     118\n",
       "master's degree        59\n",
       "Name: parental level of education, dtype: int64"
      ]
     },
     "execution_count": 21,
     "metadata": {},
     "output_type": "execute_result"
    }
   ],
   "source": [
    "data['parental level of education'].value_counts()"
   ]
  },
  {
   "cell_type": "code",
   "execution_count": 22,
   "id": "eed39395",
   "metadata": {},
   "outputs": [],
   "source": [
    "data['parental level of education'].replace(['some college',\"associate's degree\"],'capable',inplace=True)\n",
    "data['parental level of education'].replace(['high school',\"some high school\"],'competent',inplace=True)\n",
    "data['parental level of education'].replace([\"master's degree\",\"bachelor's degree\"],'challenge',inplace=True)\n"
   ]
  },
  {
   "cell_type": "code",
   "execution_count": 23,
   "id": "ade7bd18",
   "metadata": {},
   "outputs": [
    {
     "data": {
      "text/plain": [
       "capable      448\n",
       "competent    375\n",
       "challenge    177\n",
       "Name: parental level of education, dtype: int64"
      ]
     },
     "execution_count": 23,
     "metadata": {},
     "output_type": "execute_result"
    }
   ],
   "source": [
    "data['parental level of education'].value_counts()"
   ]
  },
  {
   "cell_type": "code",
   "execution_count": 24,
   "id": "b766406b",
   "metadata": {},
   "outputs": [
    {
     "data": {
      "text/plain": [
       "Index(['gender', 'race/ethnicity', 'parental level of education', 'lunch',\n",
       "       'test preparation course', 'math score', 'reading score',\n",
       "       'writing score'],\n",
       "      dtype='object')"
      ]
     },
     "execution_count": 24,
     "metadata": {},
     "output_type": "execute_result"
    }
   ],
   "source": [
    "data.columns"
   ]
  },
  {
   "cell_type": "code",
   "execution_count": 25,
   "id": "fb67b443",
   "metadata": {},
   "outputs": [],
   "source": [
    "data.drop(['gender', 'race/ethnicity','lunch','test preparation course'],axis=1,inplace=True)"
   ]
  },
  {
   "cell_type": "code",
   "execution_count": 26,
   "id": "f5a64067",
   "metadata": {},
   "outputs": [],
   "source": [
    "data.columns  = ['Performance','Math','English','Science']"
   ]
  },
  {
   "cell_type": "code",
   "execution_count": 27,
   "id": "e79c2cb7",
   "metadata": {},
   "outputs": [
    {
     "data": {
      "text/html": [
       "<div>\n",
       "<style scoped>\n",
       "    .dataframe tbody tr th:only-of-type {\n",
       "        vertical-align: middle;\n",
       "    }\n",
       "\n",
       "    .dataframe tbody tr th {\n",
       "        vertical-align: top;\n",
       "    }\n",
       "\n",
       "    .dataframe thead th {\n",
       "        text-align: right;\n",
       "    }\n",
       "</style>\n",
       "<table border=\"1\" class=\"dataframe\">\n",
       "  <thead>\n",
       "    <tr style=\"text-align: right;\">\n",
       "      <th></th>\n",
       "      <th>Performance</th>\n",
       "      <th>Math</th>\n",
       "      <th>English</th>\n",
       "      <th>Science</th>\n",
       "    </tr>\n",
       "  </thead>\n",
       "  <tbody>\n",
       "    <tr>\n",
       "      <th>0</th>\n",
       "      <td>challenge</td>\n",
       "      <td>72</td>\n",
       "      <td>72</td>\n",
       "      <td>74</td>\n",
       "    </tr>\n",
       "    <tr>\n",
       "      <th>1</th>\n",
       "      <td>capable</td>\n",
       "      <td>69</td>\n",
       "      <td>90</td>\n",
       "      <td>88</td>\n",
       "    </tr>\n",
       "    <tr>\n",
       "      <th>2</th>\n",
       "      <td>challenge</td>\n",
       "      <td>90</td>\n",
       "      <td>95</td>\n",
       "      <td>93</td>\n",
       "    </tr>\n",
       "    <tr>\n",
       "      <th>3</th>\n",
       "      <td>capable</td>\n",
       "      <td>47</td>\n",
       "      <td>57</td>\n",
       "      <td>44</td>\n",
       "    </tr>\n",
       "    <tr>\n",
       "      <th>4</th>\n",
       "      <td>capable</td>\n",
       "      <td>76</td>\n",
       "      <td>78</td>\n",
       "      <td>75</td>\n",
       "    </tr>\n",
       "    <tr>\n",
       "      <th>...</th>\n",
       "      <td>...</td>\n",
       "      <td>...</td>\n",
       "      <td>...</td>\n",
       "      <td>...</td>\n",
       "    </tr>\n",
       "    <tr>\n",
       "      <th>995</th>\n",
       "      <td>challenge</td>\n",
       "      <td>88</td>\n",
       "      <td>99</td>\n",
       "      <td>95</td>\n",
       "    </tr>\n",
       "    <tr>\n",
       "      <th>996</th>\n",
       "      <td>competent</td>\n",
       "      <td>62</td>\n",
       "      <td>55</td>\n",
       "      <td>55</td>\n",
       "    </tr>\n",
       "    <tr>\n",
       "      <th>997</th>\n",
       "      <td>competent</td>\n",
       "      <td>59</td>\n",
       "      <td>71</td>\n",
       "      <td>65</td>\n",
       "    </tr>\n",
       "    <tr>\n",
       "      <th>998</th>\n",
       "      <td>capable</td>\n",
       "      <td>68</td>\n",
       "      <td>78</td>\n",
       "      <td>77</td>\n",
       "    </tr>\n",
       "    <tr>\n",
       "      <th>999</th>\n",
       "      <td>capable</td>\n",
       "      <td>77</td>\n",
       "      <td>86</td>\n",
       "      <td>86</td>\n",
       "    </tr>\n",
       "  </tbody>\n",
       "</table>\n",
       "<p>1000 rows × 4 columns</p>\n",
       "</div>"
      ],
      "text/plain": [
       "    Performance  Math  English  Science\n",
       "0     challenge    72       72       74\n",
       "1       capable    69       90       88\n",
       "2     challenge    90       95       93\n",
       "3       capable    47       57       44\n",
       "4       capable    76       78       75\n",
       "..          ...   ...      ...      ...\n",
       "995   challenge    88       99       95\n",
       "996   competent    62       55       55\n",
       "997   competent    59       71       65\n",
       "998     capable    68       78       77\n",
       "999     capable    77       86       86\n",
       "\n",
       "[1000 rows x 4 columns]"
      ]
     },
     "execution_count": 27,
     "metadata": {},
     "output_type": "execute_result"
    }
   ],
   "source": [
    "data"
   ]
  },
  {
   "cell_type": "code",
   "execution_count": 28,
   "id": "b5791bd8",
   "metadata": {},
   "outputs": [],
   "source": [
    "X = data.iloc[:,1:]\n",
    "y = data.iloc[:,0]"
   ]
  },
  {
   "cell_type": "code",
   "execution_count": 29,
   "id": "582cf859",
   "metadata": {},
   "outputs": [
    {
     "data": {
      "text/html": [
       "<div>\n",
       "<style scoped>\n",
       "    .dataframe tbody tr th:only-of-type {\n",
       "        vertical-align: middle;\n",
       "    }\n",
       "\n",
       "    .dataframe tbody tr th {\n",
       "        vertical-align: top;\n",
       "    }\n",
       "\n",
       "    .dataframe thead th {\n",
       "        text-align: right;\n",
       "    }\n",
       "</style>\n",
       "<table border=\"1\" class=\"dataframe\">\n",
       "  <thead>\n",
       "    <tr style=\"text-align: right;\">\n",
       "      <th></th>\n",
       "      <th>Math</th>\n",
       "      <th>English</th>\n",
       "      <th>Science</th>\n",
       "    </tr>\n",
       "  </thead>\n",
       "  <tbody>\n",
       "    <tr>\n",
       "      <th>0</th>\n",
       "      <td>72</td>\n",
       "      <td>72</td>\n",
       "      <td>74</td>\n",
       "    </tr>\n",
       "    <tr>\n",
       "      <th>1</th>\n",
       "      <td>69</td>\n",
       "      <td>90</td>\n",
       "      <td>88</td>\n",
       "    </tr>\n",
       "    <tr>\n",
       "      <th>2</th>\n",
       "      <td>90</td>\n",
       "      <td>95</td>\n",
       "      <td>93</td>\n",
       "    </tr>\n",
       "    <tr>\n",
       "      <th>3</th>\n",
       "      <td>47</td>\n",
       "      <td>57</td>\n",
       "      <td>44</td>\n",
       "    </tr>\n",
       "    <tr>\n",
       "      <th>4</th>\n",
       "      <td>76</td>\n",
       "      <td>78</td>\n",
       "      <td>75</td>\n",
       "    </tr>\n",
       "    <tr>\n",
       "      <th>...</th>\n",
       "      <td>...</td>\n",
       "      <td>...</td>\n",
       "      <td>...</td>\n",
       "    </tr>\n",
       "    <tr>\n",
       "      <th>995</th>\n",
       "      <td>88</td>\n",
       "      <td>99</td>\n",
       "      <td>95</td>\n",
       "    </tr>\n",
       "    <tr>\n",
       "      <th>996</th>\n",
       "      <td>62</td>\n",
       "      <td>55</td>\n",
       "      <td>55</td>\n",
       "    </tr>\n",
       "    <tr>\n",
       "      <th>997</th>\n",
       "      <td>59</td>\n",
       "      <td>71</td>\n",
       "      <td>65</td>\n",
       "    </tr>\n",
       "    <tr>\n",
       "      <th>998</th>\n",
       "      <td>68</td>\n",
       "      <td>78</td>\n",
       "      <td>77</td>\n",
       "    </tr>\n",
       "    <tr>\n",
       "      <th>999</th>\n",
       "      <td>77</td>\n",
       "      <td>86</td>\n",
       "      <td>86</td>\n",
       "    </tr>\n",
       "  </tbody>\n",
       "</table>\n",
       "<p>1000 rows × 3 columns</p>\n",
       "</div>"
      ],
      "text/plain": [
       "     Math  English  Science\n",
       "0      72       72       74\n",
       "1      69       90       88\n",
       "2      90       95       93\n",
       "3      47       57       44\n",
       "4      76       78       75\n",
       "..    ...      ...      ...\n",
       "995    88       99       95\n",
       "996    62       55       55\n",
       "997    59       71       65\n",
       "998    68       78       77\n",
       "999    77       86       86\n",
       "\n",
       "[1000 rows x 3 columns]"
      ]
     },
     "metadata": {},
     "output_type": "display_data"
    },
    {
     "data": {
      "text/plain": [
       "0      challenge\n",
       "1        capable\n",
       "2      challenge\n",
       "3        capable\n",
       "4        capable\n",
       "         ...    \n",
       "995    challenge\n",
       "996    competent\n",
       "997    competent\n",
       "998      capable\n",
       "999      capable\n",
       "Name: Performance, Length: 1000, dtype: object"
      ]
     },
     "metadata": {},
     "output_type": "display_data"
    }
   ],
   "source": [
    "display(X,y)"
   ]
  },
  {
   "cell_type": "code",
   "execution_count": 30,
   "id": "8e128999",
   "metadata": {},
   "outputs": [],
   "source": [
    "X_train,X_test,y_train,y_test= train_test_split(X,y,test_size=0.30,random_state=1)"
   ]
  },
  {
   "cell_type": "code",
   "execution_count": 31,
   "id": "9e83e894",
   "metadata": {},
   "outputs": [
    {
     "data": {
      "text/plain": [
       "45.0"
      ]
     },
     "execution_count": 31,
     "metadata": {},
     "output_type": "execute_result"
    }
   ],
   "source": [
    "gn = GaussianNB()\n",
    "gn.fit(X_train,y_train)\n",
    "y_pred1 = gn.predict(X_test)\n",
    "a1 = accuracy_score(y_test,y_pred1) * 100\n",
    "a1"
   ]
  },
  {
   "cell_type": "code",
   "execution_count": 32,
   "id": "3eb3defa",
   "metadata": {},
   "outputs": [
    {
     "data": {
      "text/plain": [
       "40.0"
      ]
     },
     "execution_count": 32,
     "metadata": {},
     "output_type": "execute_result"
    }
   ],
   "source": [
    "pn = ComplementNB()\n",
    "pn.fit(X_train,y_train)\n",
    "y_pred2 = pn.predict(X_test)\n",
    "a2 = accuracy_score(y_test,y_pred2) * 100\n",
    "a2"
   ]
  },
  {
   "cell_type": "code",
   "execution_count": 33,
   "id": "a2c52290",
   "metadata": {},
   "outputs": [
    {
     "data": {
      "text/plain": [
       "40.666666666666664"
      ]
     },
     "execution_count": 33,
     "metadata": {},
     "output_type": "execute_result"
    }
   ],
   "source": [
    "bn = BernoulliNB()\n",
    "bn.fit(X_train,y_train)\n",
    "y_pred3 = bn.predict(X_test)\n",
    "a3 = accuracy_score(y_test,y_pred3) * 100\n",
    "a3"
   ]
  },
  {
   "cell_type": "code",
   "execution_count": 34,
   "id": "cb5fbfea",
   "metadata": {},
   "outputs": [
    {
     "data": {
      "text/plain": [
       "42.333333333333336"
      ]
     },
     "execution_count": 34,
     "metadata": {},
     "output_type": "execute_result"
    }
   ],
   "source": [
    "cn = CategoricalNB()\n",
    "cn.fit(X_train,y_train)\n",
    "y_pred4 = cn.predict(X_test)\n",
    "a4 = accuracy_score(y_test,y_pred4) * 100\n",
    "a4"
   ]
  },
  {
   "cell_type": "code",
   "execution_count": 36,
   "id": "c339adcc",
   "metadata": {},
   "outputs": [
    {
     "data": {
      "text/plain": [
       "40.666666666666664"
      ]
     },
     "execution_count": 36,
     "metadata": {},
     "output_type": "execute_result"
    }
   ],
   "source": [
    "mn = MultinomialNB()\n",
    "mn.fit(X_train,y_train)\n",
    "y_pred5 = mn.predict(X_test)\n",
    "a5 = accuracy_score(y_test,y_pred5) * 100\n",
    "a5"
   ]
  },
  {
   "cell_type": "code",
   "execution_count": 37,
   "id": "e352eeb1",
   "metadata": {},
   "outputs": [
    {
     "data": {
      "text/plain": [
       "array(['capable'], dtype='<U9')"
      ]
     },
     "execution_count": 37,
     "metadata": {},
     "output_type": "execute_result"
    }
   ],
   "source": [
    "pred1 = gn.predict([[65,90,80]])\n",
    "pred1"
   ]
  },
  {
   "cell_type": "code",
   "execution_count": 38,
   "id": "2d0d0487",
   "metadata": {},
   "outputs": [
    {
     "data": {
      "text/plain": [
       "array(['challenge'], dtype='<U9')"
      ]
     },
     "execution_count": 38,
     "metadata": {},
     "output_type": "execute_result"
    }
   ],
   "source": [
    "pred2 = pn.predict([[65,90,80]])\n",
    "pred2"
   ]
  },
  {
   "cell_type": "code",
   "execution_count": 39,
   "id": "53dba65d",
   "metadata": {},
   "outputs": [
    {
     "data": {
      "text/plain": [
       "array(['capable'], dtype='<U9')"
      ]
     },
     "execution_count": 39,
     "metadata": {},
     "output_type": "execute_result"
    }
   ],
   "source": [
    "pred1 = bn.predict([[65,90,80]])\n",
    "pred1"
   ]
  },
  {
   "cell_type": "code",
   "execution_count": 40,
   "id": "7e3758dc",
   "metadata": {},
   "outputs": [
    {
     "data": {
      "text/plain": [
       "array(['capable'], dtype='<U9')"
      ]
     },
     "execution_count": 40,
     "metadata": {},
     "output_type": "execute_result"
    }
   ],
   "source": [
    "pred1 = cn.predict([[65,90,80]])\n",
    "pred1"
   ]
  },
  {
   "cell_type": "code",
   "execution_count": 41,
   "id": "e58f4f14",
   "metadata": {},
   "outputs": [
    {
     "data": {
      "text/plain": [
       "array(['capable'], dtype='<U9')"
      ]
     },
     "execution_count": 41,
     "metadata": {},
     "output_type": "execute_result"
    }
   ],
   "source": [
    "pred1 = mn.predict([[65,90,80]])\n",
    "pred1"
   ]
  },
  {
   "cell_type": "code",
   "execution_count": null,
   "id": "66676ac4",
   "metadata": {},
   "outputs": [],
   "source": []
  }
 ],
 "metadata": {
  "kernelspec": {
   "display_name": "Python 3 (ipykernel)",
   "language": "python",
   "name": "python3"
  },
  "language_info": {
   "codemirror_mode": {
    "name": "ipython",
    "version": 3
   },
   "file_extension": ".py",
   "mimetype": "text/x-python",
   "name": "python",
   "nbconvert_exporter": "python",
   "pygments_lexer": "ipython3",
   "version": "3.9.12"
  }
 },
 "nbformat": 4,
 "nbformat_minor": 5
}
